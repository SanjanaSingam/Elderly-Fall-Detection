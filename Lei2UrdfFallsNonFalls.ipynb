{
  "nbformat": 4,
  "nbformat_minor": 0,
  "metadata": {
    "colab": {
      "provenance": []
    },
    "kernelspec": {
      "name": "python3",
      "display_name": "Python 3"
    },
    "language_info": {
      "name": "python"
    }
  },
  "cells": [
    {
      "cell_type": "code",
      "execution_count": null,
      "metadata": {
        "colab": {
          "base_uri": "https://localhost:8080/"
        },
        "id": "9LqBwTTp5TX9",
        "outputId": "37cda31b-c038-4afd-83e9-0df17d6ce0f8"
      },
      "outputs": [
        {
          "output_type": "stream",
          "name": "stdout",
          "text": [
            "Detected Fall: video (55).mp4\n",
            "Detected Fall: video (62).mp4\n",
            "Detected Fall: video (52).mp4\n",
            "Detected Fall: video (57).mp4\n",
            "Detected Fall: video (58).mp4\n",
            "Detected Fall: video (59).mp4\n",
            "Detected Fall: video (53).mp4\n",
            "Detected Fall: video (56).mp4\n",
            "Detected Fall: video (50).mp4\n",
            "Detected Fall: video (54).mp4\n",
            "Detected Fall: video (49).mp4\n",
            "Detected Fall: video (51).mp4\n",
            "Detected Fall: video (64).mp4\n",
            "Detected Fall: video (60).mp4\n",
            "✅ Videos successfully sorted into Falls/ and NonFalls/.\n"
          ]
        }
      ],
      "source": [
        "import os\n",
        "import shutil\n",
        "\n",
        "# Define paths based on your dataset structure\n",
        "dataset_path = \"/content/Coffee_room_02_extracted3/Coffee_room_02\"\n",
        "annotations_path = os.path.join(dataset_path, \"Annotations_files\")\n",
        "videos_path = os.path.join(dataset_path, \"Videos\")  # Ensure this matches the actual video location\n",
        "\n",
        "# Output folders for categorized videos\n",
        "falls_folder = os.path.join(dataset_path, \"Falls\")\n",
        "non_falls_folder = os.path.join(dataset_path, \"NonFalls\")\n",
        "\n",
        "# Create the output directories if they don't exist\n",
        "os.makedirs(falls_folder, exist_ok=True)\n",
        "os.makedirs(non_falls_folder, exist_ok=True)\n",
        "\n",
        "fall_videos = set()\n",
        "\n",
        "# Process annotation files to identify fall-related videos\n",
        "if os.path.exists(annotations_path):\n",
        "    for annotation_file in os.listdir(annotations_path):\n",
        "        if annotation_file.endswith(\".txt\"):\n",
        "            annotation_path = os.path.join(annotations_path, annotation_file)\n",
        "\n",
        "            with open(annotation_path, \"r\") as file:\n",
        "                lines = file.readlines()\n",
        "\n",
        "                # Check if there's a fall (first line = start frame, second line = end frame)\n",
        "                if len(lines) >= 2 and lines[0].strip() != \"0\":\n",
        "                    video_name = annotation_file.replace(\".txt\", \".mp4\")  # Adjust if needed\n",
        "                    fall_videos.add(video_name)\n",
        "                    print(f\"Detected Fall: {video_name}\")  # Debugging output\n",
        "\n",
        "\n",
        "else:\n",
        "    print(\"⚠️ No 'annotations_files' folder found. Please check the dataset structure.\")\n",
        "\n",
        "# Move videos based on fall classification\n",
        "if os.path.exists(videos_path):\n",
        "    for video in os.listdir(videos_path):\n",
        "        video_path = os.path.join(videos_path, video)\n",
        "\n",
        "        if video in fall_videos:\n",
        "            shutil.move(video_path, os.path.join(falls_folder, video))\n",
        "        else:\n",
        "            shutil.move(video_path, os.path.join(non_falls_folder, video))\n",
        "\n",
        "    print(\"✅ Videos successfully sorted into Falls/ and NonFalls/.\")\n",
        "\n",
        "else:\n",
        "    print(\"⚠️ No 'videos' folder found. Please check the dataset structure.\")\n"
      ]
    },
    {
      "cell_type": "code",
      "source": [
        "import zipfile\n",
        "import os\n",
        "\n",
        "# Path to your ZIP file\n",
        "zip_file_path = \"/content/Coffee_room_02.zip\"  # Change this to your ZIP file path\n",
        "extract_to_path = \"/content/Coffee_room_02_extracted9\"  # Change this to desired extraction folder\n",
        "\n",
        "# Extract the ZIP file\n",
        "with zipfile.ZipFile(zip_file_path, 'r') as zip_ref:\n",
        "    zip_ref.extractall(extract_to_path)\n",
        "\n",
        "print(f\"✅ Extraction complete! Files are saved in: {extract_to_path}\")\n",
        "\n",
        "# List extracted contents\n",
        "print(\"📂 Extracted Files and Folders:\")\n",
        "print(os.listdir(extract_to_path))\n"
      ],
      "metadata": {
        "colab": {
          "base_uri": "https://localhost:8080/"
        },
        "id": "9S3u4hITKNNh",
        "outputId": "4698efe3-bb5e-4da9-cc77-52462432f493"
      },
      "execution_count": null,
      "outputs": [
        {
          "output_type": "stream",
          "name": "stdout",
          "text": [
            "✅ Extraction complete! Files are saved in: /content/Coffee_room_02_extracted9\n",
            "📂 Extracted Files and Folders:\n",
            "['Coffee_room_02']\n"
          ]
        }
      ]
    },
    {
      "cell_type": "code",
      "source": [
        "import os\n",
        "import shutil\n",
        "\n",
        "# Define paths based on your dataset structure\n",
        "dataset_path = \"/content/Coffee_room_02_extracted9/Coffee_room_02\"\n",
        "annotations_path = os.path.join(dataset_path, \"Annotations_files\")\n",
        "videos_path = os.path.join(dataset_path, \"Videos\")  # Ensure this matches the actual video location\n",
        "\n",
        "# Output folders for categorized videos\n",
        "falls_folder = os.path.join(dataset_path, \"Falls\")\n",
        "non_falls_folder = os.path.join(dataset_path, \"NonFalls\")\n",
        "\n",
        "# Create the output directories if they don't exist\n",
        "os.makedirs(falls_folder, exist_ok=True)\n",
        "os.makedirs(non_falls_folder, exist_ok=True)\n",
        "\n",
        "fall_videos = set()\n",
        "\n",
        "# Process annotation files to identify fall-related videos\n",
        "if os.path.exists(annotations_path):\n",
        "    for annotation_file in os.listdir(annotations_path):\n",
        "        if annotation_file.endswith(\".txt\"):\n",
        "            annotation_path = os.path.join(annotations_path, annotation_file)\n",
        "\n",
        "            with open(annotation_path, \"r\") as file:\n",
        "                lines = file.readlines()\n",
        "\n",
        "                # Check if there's a fall (first line = start frame, second line = end frame)\n",
        "                if len(lines) >= 2 and lines[0].strip() != \"0\":\n",
        "                    video_name_base = annotation_file.replace(\".txt\", \"\")  # Get base name\n",
        "                    fall_videos.add(video_name_base)\n",
        "                    print(f\"📌 Detected Fall: {video_name_base}\")  # Debugging output\n",
        "\n",
        "else:\n",
        "    print(\"⚠️ No 'Annotations_files' folder found. Please check the dataset structure.\")\n",
        "\n",
        "# Move videos based on fall classification\n",
        "if os.path.exists(videos_path):\n",
        "    for video in os.listdir(videos_path):\n",
        "        video_path = os.path.join(videos_path, video)\n",
        "\n",
        "        # Extract video name without extension\n",
        "        video_name_base, video_extension = os.path.splitext(video)\n",
        "\n",
        "        if video_name_base in fall_videos:\n",
        "            destination = os.path.join(falls_folder, video)\n",
        "            print(f\"📂 Moving {video} → Falls/\")\n",
        "        else:\n",
        "            destination = os.path.join(non_falls_folder, video)\n",
        "            print(f\"📂 Moving {video} → NonFalls/\")\n",
        "\n",
        "        # Check if video file exists before moving\n",
        "        if os.path.exists(video_path):\n",
        "            shutil.move(video_path, destination)\n",
        "        else:\n",
        "            print(f\"❌ Warning: {video} not found in {videos_path}\")\n",
        "\n",
        "    print(\"✅ Videos successfully sorted into Falls/ and NonFalls/.\")\n",
        "\n",
        "else:\n",
        "    print(\"⚠️ No 'Videos' folder found. Please check the dataset structure.\")\n"
      ],
      "metadata": {
        "colab": {
          "base_uri": "https://localhost:8080/"
        },
        "id": "4JIsgxACNZOA",
        "outputId": "9b2513c9-8ba4-46b3-bdf3-ebfc08f35b4f"
      },
      "execution_count": null,
      "outputs": [
        {
          "output_type": "stream",
          "name": "stdout",
          "text": [
            "📌 Detected Fall: video (55)\n",
            "📌 Detected Fall: video (62)\n",
            "📌 Detected Fall: video (52)\n",
            "📌 Detected Fall: video (57)\n",
            "📌 Detected Fall: video (58)\n",
            "📌 Detected Fall: video (59)\n",
            "📌 Detected Fall: video (53)\n",
            "📌 Detected Fall: video (56)\n",
            "📌 Detected Fall: video (50)\n",
            "📌 Detected Fall: video (54)\n",
            "📌 Detected Fall: video (49)\n",
            "📌 Detected Fall: video (51)\n",
            "📌 Detected Fall: video (64)\n",
            "📌 Detected Fall: video (60)\n",
            "📂 Moving video (62).avi → Falls/\n",
            "📂 Moving video (69).avi → NonFalls/\n",
            "📂 Moving video (53).avi → Falls/\n",
            "📂 Moving video (63).avi → NonFalls/\n",
            "📂 Moving video (51).avi → Falls/\n",
            "📂 Moving video (49).avi → Falls/\n",
            "📂 Moving video (67).avi → NonFalls/\n",
            "📂 Moving video (70).avi → NonFalls/\n",
            "📂 Moving video (68).avi → NonFalls/\n",
            "📂 Moving video (54).avi → Falls/\n",
            "📂 Moving video (61).avi → NonFalls/\n",
            "📂 Moving video (64).avi → Falls/\n",
            "📂 Moving video (52).avi → Falls/\n",
            "📂 Moving video (66).avi → NonFalls/\n",
            "📂 Moving video (50).avi → Falls/\n",
            "📂 Moving video (59).avi → Falls/\n",
            "📂 Moving video (56).avi → Falls/\n",
            "📂 Moving video (58).avi → Falls/\n",
            "📂 Moving video (57).avi → Falls/\n",
            "📂 Moving video (55).avi → Falls/\n",
            "📂 Moving video (60).avi → Falls/\n",
            "📂 Moving video (65).avi → NonFalls/\n",
            "✅ Videos successfully sorted into Falls/ and NonFalls/.\n"
          ]
        }
      ]
    },
    {
      "cell_type": "code",
      "source": [
        "import shutil\n",
        "from google.colab import files\n",
        "\n",
        "# Define paths\n",
        "dataset_path = \"/content/Coffee_room_02_extracted9/Coffee_room_02\"\n",
        "falls_folder = os.path.join(dataset_path, \"Falls\")\n",
        "non_falls_folder = os.path.join(dataset_path, \"NonFalls\")\n",
        "\n",
        "# Zip the folders\n",
        "shutil.make_archive(falls_folder, 'zip', falls_folder)\n",
        "shutil.make_archive(non_falls_folder, 'zip', non_falls_folder)\n",
        "\n",
        "# Download the zipped files\n",
        "files.download(falls_folder + \".zip\")\n",
        "files.download(non_falls_folder + \".zip\")\n"
      ],
      "metadata": {
        "colab": {
          "base_uri": "https://localhost:8080/",
          "height": 52
        },
        "id": "i77NXKPoQJz1",
        "outputId": "14747fa2-0293-42ac-8263-60bdb321e75c"
      },
      "execution_count": null,
      "outputs": [
        {
          "output_type": "display_data",
          "data": {
            "text/plain": [
              "<IPython.core.display.Javascript object>"
            ],
            "application/javascript": [
              "\n",
              "    async function download(id, filename, size) {\n",
              "      if (!google.colab.kernel.accessAllowed) {\n",
              "        return;\n",
              "      }\n",
              "      const div = document.createElement('div');\n",
              "      const label = document.createElement('label');\n",
              "      label.textContent = `Downloading \"${filename}\": `;\n",
              "      div.appendChild(label);\n",
              "      const progress = document.createElement('progress');\n",
              "      progress.max = size;\n",
              "      div.appendChild(progress);\n",
              "      document.body.appendChild(div);\n",
              "\n",
              "      const buffers = [];\n",
              "      let downloaded = 0;\n",
              "\n",
              "      const channel = await google.colab.kernel.comms.open(id);\n",
              "      // Send a message to notify the kernel that we're ready.\n",
              "      channel.send({})\n",
              "\n",
              "      for await (const message of channel.messages) {\n",
              "        // Send a message to notify the kernel that we're ready.\n",
              "        channel.send({})\n",
              "        if (message.buffers) {\n",
              "          for (const buffer of message.buffers) {\n",
              "            buffers.push(buffer);\n",
              "            downloaded += buffer.byteLength;\n",
              "            progress.value = downloaded;\n",
              "          }\n",
              "        }\n",
              "      }\n",
              "      const blob = new Blob(buffers, {type: 'application/binary'});\n",
              "      const a = document.createElement('a');\n",
              "      a.href = window.URL.createObjectURL(blob);\n",
              "      a.download = filename;\n",
              "      div.appendChild(a);\n",
              "      a.click();\n",
              "      div.remove();\n",
              "    }\n",
              "  "
            ]
          },
          "metadata": {}
        },
        {
          "output_type": "display_data",
          "data": {
            "text/plain": [
              "<IPython.core.display.Javascript object>"
            ],
            "application/javascript": [
              "download(\"download_613dfc08-59a9-4829-b074-2b4f81a24fb3\", \"Falls.zip\", 855249434)"
            ]
          },
          "metadata": {}
        },
        {
          "output_type": "display_data",
          "data": {
            "text/plain": [
              "<IPython.core.display.Javascript object>"
            ],
            "application/javascript": [
              "\n",
              "    async function download(id, filename, size) {\n",
              "      if (!google.colab.kernel.accessAllowed) {\n",
              "        return;\n",
              "      }\n",
              "      const div = document.createElement('div');\n",
              "      const label = document.createElement('label');\n",
              "      label.textContent = `Downloading \"${filename}\": `;\n",
              "      div.appendChild(label);\n",
              "      const progress = document.createElement('progress');\n",
              "      progress.max = size;\n",
              "      div.appendChild(progress);\n",
              "      document.body.appendChild(div);\n",
              "\n",
              "      const buffers = [];\n",
              "      let downloaded = 0;\n",
              "\n",
              "      const channel = await google.colab.kernel.comms.open(id);\n",
              "      // Send a message to notify the kernel that we're ready.\n",
              "      channel.send({})\n",
              "\n",
              "      for await (const message of channel.messages) {\n",
              "        // Send a message to notify the kernel that we're ready.\n",
              "        channel.send({})\n",
              "        if (message.buffers) {\n",
              "          for (const buffer of message.buffers) {\n",
              "            buffers.push(buffer);\n",
              "            downloaded += buffer.byteLength;\n",
              "            progress.value = downloaded;\n",
              "          }\n",
              "        }\n",
              "      }\n",
              "      const blob = new Blob(buffers, {type: 'application/binary'});\n",
              "      const a = document.createElement('a');\n",
              "      a.href = window.URL.createObjectURL(blob);\n",
              "      a.download = filename;\n",
              "      div.appendChild(a);\n",
              "      a.click();\n",
              "      div.remove();\n",
              "    }\n",
              "  "
            ]
          },
          "metadata": {}
        },
        {
          "output_type": "display_data",
          "data": {
            "text/plain": [
              "<IPython.core.display.Javascript object>"
            ],
            "application/javascript": [
              "download(\"download_7dcee864-75f7-4d67-ad0a-a16022679076\", \"NonFalls.zip\", 978965560)"
            ]
          },
          "metadata": {}
        }
      ]
    }
  ]
}